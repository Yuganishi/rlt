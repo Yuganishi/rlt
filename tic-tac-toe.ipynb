{
 "cells": [
  {
   "cell_type": "code",
   "execution_count": 57,
   "id": "e2e2d513-b7e2-439e-b9c0-52a17ccfc83d",
   "metadata": {},
   "outputs": [],
   "source": [
    "import numpy as np\n",
    "import random\n",
    "from time import sleep "
   ]
  },
  {
   "cell_type": "code",
   "execution_count": 58,
   "id": "b9295a01-496d-4af9-b510-dcc8667fc183",
   "metadata": {},
   "outputs": [],
   "source": [
    "def create_board():\n",
    "\treturn(np.array([[0, 0, 0],\n",
    "\t\t\t\t\t[0, 0, 0],\n",
    "\t\t\t\t\t[0, 0, 0]]))"
   ]
  },
  {
   "cell_type": "code",
   "execution_count": 66,
   "id": "cce15154-ce66-4766-a2fe-637b22ef244e",
   "metadata": {},
   "outputs": [],
   "source": [
    "#check for empty places on board\n",
    "\n",
    "def possibilities(board):\n",
    "\tl = []\n",
    "\n",
    "\tfor i in range(len(board)):\n",
    "\t\tfor j in range(len(board)):\n",
    "\n",
    "\t\t\tif board[i][j] == 0:\n",
    "\t\t\t\tl.append((i, j))\n",
    "\treturn(l)\n",
    "\n",
    "            "
   ]
  },
  {
   "cell_type": "code",
   "execution_count": 67,
   "id": "a2b52ad9-013b-40e8-bd9b-e1bf8d847902",
   "metadata": {},
   "outputs": [],
   "source": [
    "#select a random place for a player\n",
    "\n",
    "\n",
    "def random_place(board, player):\n",
    "\tselection = possibilities(board)\n",
    "\tcurrent_loc = random.choice(selection)\n",
    "\tboard[current_loc] = player\n",
    "\treturn(board)"
   ]
  },
  {
   "cell_type": "code",
   "execution_count": 68,
   "id": "5ac4ef3f-aa56-40ea-b83c-f4e909fc4581",
   "metadata": {},
   "outputs": [],
   "source": [
    "#check whether the player has 3 of their marks in horizontal row\n",
    "\n",
    "def row_win(board, player):\n",
    "\tfor x in range(len(board)):\n",
    "\t\twin = True\n",
    "\n",
    "\t\tfor y in range(len(board)):\n",
    "\t\t\tif board[x, y] != player:\n",
    "\t\t\t\twin = False\n",
    "\t\t\t\tcontinue\n",
    "\n",
    "\t\tif win == True:\n",
    "\t\t\treturn(win)\n",
    "\treturn(win)"
   ]
  },
  {
   "cell_type": "code",
   "execution_count": 69,
   "id": "894e9696-c1f1-4e48-b2ec-8cad5f33f401",
   "metadata": {},
   "outputs": [],
   "source": [
    "#check whether the player has 3 of their marks in vertical columns\n",
    "\n",
    "def col_win(board, player):\n",
    "\tfor x in range(len(board)):\n",
    "\t\twin = True\n",
    "\n",
    "\t\tfor y in range(len(board)):\n",
    "\t\t\tif board[y][x] != player:\n",
    "\t\t\t\twin = False\n",
    "\t\t\t\tcontinue\n",
    "\n",
    "\t\tif win == True:\n",
    "\t\t\treturn(win)\n",
    "\treturn(win)"
   ]
  },
  {
   "cell_type": "code",
   "execution_count": 70,
   "id": "e2fa95db-5052-4148-af84-fbd6c20d3f79",
   "metadata": {},
   "outputs": [],
   "source": [
    "#check whether the player has 3 of their marks in diagonal\n",
    "\n",
    "def diag_win(board, player):\n",
    "\twin = True\n",
    "\ty = 0\n",
    "\tfor x in range(len(board)):\n",
    "\t\tif board[x, x] != player:\n",
    "\t\t\twin = False\n",
    "\tif win:\n",
    "\t\treturn win\n",
    "\twin = True\n",
    "\tif win:\n",
    "\t\tfor x in range(len(board)):\n",
    "\t\t\ty = len(board) - 1 - x\n",
    "\t\t\tif board[x, y] != player:\n",
    "\t\t\t\twin = False\n",
    "\treturn win\n"
   ]
  },
  {
   "cell_type": "code",
   "execution_count": 71,
   "id": "ec185886-bbc7-46dc-8c25-5299b2c8e7fd",
   "metadata": {},
   "outputs": [],
   "source": [
    "# Evaluates whether there is\n",
    "# a winner or a tie\n",
    "\n",
    "\n",
    "def evaluate(board):\n",
    "\twinner = 0\n",
    "\n",
    "\tfor player in [1, 2]:\n",
    "\t\tif (row_win(board, player) or\n",
    "\t\t\t\tcol_win(board, player) or\n",
    "\t\t\t\tdiag_win(board, player)):\n",
    "\n",
    "\t\t\twinner = player\n",
    "\n",
    "\tif np.all(board != 0) and winner == 0:\n",
    "\t\twinner = -1\n",
    "\treturn winner\n",
    "\n"
   ]
  },
  {
   "cell_type": "code",
   "execution_count": 72,
   "id": "3db015bf-7851-450f-8eb7-d8cf6b5fa1d8",
   "metadata": {},
   "outputs": [
    {
     "name": "stdout",
     "output_type": "stream",
     "text": [
      "[[0 0 0]\n",
      " [0 0 0]\n",
      " [0 0 0]]\n",
      "Board after 1 move\n",
      "[[0 0 1]\n",
      " [0 0 0]\n",
      " [0 0 0]]\n",
      "Board after 2 move\n",
      "[[2 0 1]\n",
      " [0 0 0]\n",
      " [0 0 0]]\n",
      "Board after 3 move\n",
      "[[2 0 1]\n",
      " [0 1 0]\n",
      " [0 0 0]]\n",
      "Board after 4 move\n",
      "[[2 0 1]\n",
      " [0 1 0]\n",
      " [0 0 2]]\n",
      "Board after 5 move\n",
      "[[2 1 1]\n",
      " [0 1 0]\n",
      " [0 0 2]]\n",
      "Board after 6 move\n",
      "[[2 1 1]\n",
      " [2 1 0]\n",
      " [0 0 2]]\n",
      "Board after 7 move\n",
      "[[2 1 1]\n",
      " [2 1 1]\n",
      " [0 0 2]]\n",
      "Board after 8 move\n",
      "[[2 1 1]\n",
      " [2 1 1]\n",
      " [0 2 2]]\n",
      "Board after 9 move\n",
      "[[2 1 1]\n",
      " [2 1 1]\n",
      " [1 2 2]]\n",
      "Winner is: 1\n"
     ]
    }
   ],
   "source": [
    "# Main function to start the game\n",
    "\n",
    "\n",
    "def play_game():\n",
    "\tboard, winner, counter = create_board(), 0, 1\n",
    "\tprint(board)\n",
    "\tsleep(2)\n",
    "\n",
    "\twhile winner == 0:\n",
    "\t\tfor player in [1, 2]:\n",
    "\t\t\tboard = random_place(board, player)\n",
    "\t\t\tprint(\"Board after \" + str(counter) + \" move\")\n",
    "\t\t\tprint(board)\n",
    "\t\t\tsleep(2)\n",
    "\t\t\tcounter += 1\n",
    "\t\t\twinner = evaluate(board)\n",
    "\t\t\tif winner != 0:\n",
    "\t\t\t\tbreak\n",
    "\treturn(winner)\n",
    "\n",
    "\n",
    "# Driver Code\n",
    "print(\"Winner is: \" + str(play_game()))"
   ]
  },
  {
   "cell_type": "code",
   "execution_count": null,
   "id": "ac9149ec-a4d3-486f-9ffa-d178ed0231ed",
   "metadata": {},
   "outputs": [],
   "source": []
  },
  {
   "cell_type": "code",
   "execution_count": null,
   "id": "8b09d0ee-4450-4df6-ae33-89eb4aba561f",
   "metadata": {},
   "outputs": [],
   "source": []
  }
 ],
 "metadata": {
  "kernelspec": {
   "display_name": "Python 3 (ipykernel)",
   "language": "python",
   "name": "python3"
  },
  "language_info": {
   "codemirror_mode": {
    "name": "ipython",
    "version": 3
   },
   "file_extension": ".py",
   "mimetype": "text/x-python",
   "name": "python",
   "nbconvert_exporter": "python",
   "pygments_lexer": "ipython3",
   "version": "3.11.8"
  }
 },
 "nbformat": 4,
 "nbformat_minor": 5
}
